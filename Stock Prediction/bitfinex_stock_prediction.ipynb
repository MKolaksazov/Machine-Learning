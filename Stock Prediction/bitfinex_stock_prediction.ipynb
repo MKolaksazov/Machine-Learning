{
  "nbformat": 4,
  "nbformat_minor": 0,
  "metadata": {
    "colab": {
      "name": "bitfinex-stock-prediction.ipynb",
      "provenance": [],
      "collapsed_sections": [],
      "authorship_tag": "ABX9TyOdYhYpNDZkgtdNrURxZddL",
      "include_colab_link": true
    },
    "kernelspec": {
      "name": "python3",
      "display_name": "Python 3"
    },
    "language_info": {
      "name": "python"
    }
  },
  "cells": [
    {
      "cell_type": "markdown",
      "metadata": {
        "id": "view-in-github",
        "colab_type": "text"
      },
      "source": [
        "<a href=\"https://colab.research.google.com/github/MKolaksazov/Machine-Learning/blob/master/Stock%20Prediction/bitfinex_stock_prediction.ipynb\" target=\"_parent\"><img src=\"https://colab.research.google.com/assets/colab-badge.svg\" alt=\"Open In Colab\"/></a>"
      ]
    },
    {
      "cell_type": "markdown",
      "source": [
        "#Download historical cryptocurrency data and use it to learn to trade Bitcoin automatically"
      ],
      "metadata": {
        "id": "be9WPXB3GYM0"
      }
    },
    {
      "cell_type": "code",
      "execution_count": 1,
      "metadata": {
        "colab": {
          "base_uri": "https://localhost:8080/"
        },
        "id": "eylwx2UoFAL3",
        "outputId": "50a2faf7-d7a1-4809-e72a-524070c5ee2f"
      },
      "outputs": [
        {
          "output_type": "stream",
          "name": "stdout",
          "text": [
            "Collecting bitfinex-tencars\n",
            "  Downloading bitfinex_tencars-0.0.3-py3-none-any.whl (7.6 kB)\n",
            "Installing collected packages: bitfinex-tencars\n",
            "Successfully installed bitfinex-tencars-0.0.3\n"
          ]
        }
      ],
      "source": [
        "! pip install bitfinex-tencars"
      ]
    },
    {
      "cell_type": "code",
      "source": [
        "import bitfinex\n",
        "import time\n",
        "import datetime\n",
        "import pandas as pd"
      ],
      "metadata": {
        "id": "lAL6NTdzFFUP"
      },
      "execution_count": 2,
      "outputs": []
    },
    {
      "cell_type": "code",
      "source": [
        "# Create api instance of the v2 API\n",
        "api_v2 = bitfinex.bitfinex_v2.api_v2()"
      ],
      "metadata": {
        "colab": {
          "base_uri": "https://localhost:8080/"
        },
        "id": "jqNWi0jtFZZx",
        "outputId": "24d29471-3c81-4859-95b0-1a03041a4186"
      },
      "execution_count": 3,
      "outputs": [
        {
          "output_type": "stream",
          "name": "stdout",
          "text": [
            "No keys, only access to public API functions\n"
          ]
        }
      ]
    },
    {
      "cell_type": "code",
      "source": [
        "# Define query parameters\n",
        "pair = 'BTCUSD' # Currency pair of interest\n",
        "TIMEFRAME = '1h'#,'4h','1h','15m','1m'\n",
        "TIMEFRAME_S = 3600"
      ],
      "metadata": {
        "id": "hBMRFHgoF8yL"
      },
      "execution_count": 23,
      "outputs": []
    },
    {
      "cell_type": "code",
      "source": [
        "# Define the start date\n",
        "t_start = datetime.datetime(2014, 9, 1, 0, 0) #(2018, 9, 1, 0, 0)\n",
        "t_start = time.mktime(t_start.timetuple()) * 1000"
      ],
      "metadata": {
        "id": "0BL1vN83F-py"
      },
      "execution_count": 16,
      "outputs": []
    },
    {
      "cell_type": "code",
      "source": [
        "# Define the end date\n",
        "t_stop = datetime.datetime(2020, 10, 1, 0, 0)\n",
        "t_stop = time.mktime(t_stop.timetuple()) * 1000"
      ],
      "metadata": {
        "id": "puXha67WGBRE"
      },
      "execution_count": 17,
      "outputs": []
    },
    {
      "cell_type": "code",
      "source": [
        "# Download OHCL data from API\n",
        "result = api_v2.candles(symbol=pair, interval=TIMEFRAME, limit=1000, start=t_start, end=t_stop)"
      ],
      "metadata": {
        "id": "J6zOC7UiGDIU"
      },
      "execution_count": 18,
      "outputs": []
    },
    {
      "cell_type": "code",
      "source": [
        "# Convert list of data to pandas dataframe\n",
        "names = ['Date', 'Open', 'Close', 'High', 'Low', 'Volume']\n",
        "df = pd.DataFrame(result, columns=names)\n",
        "df['Date'] = pd.to_datetime(df['Date'], unit='ms')"
      ],
      "metadata": {
        "id": "uThukRy5GE9T"
      },
      "execution_count": 19,
      "outputs": []
    },
    {
      "cell_type": "code",
      "source": [
        "# we can plot our downloaded data\n",
        "import matplotlib.pyplot as plt\n",
        "plt.plot(df['Open'],'-')\n",
        "plt.show()"
      ],
      "metadata": {
        "colab": {
          "base_uri": "https://localhost:8080/",
          "height": 265
        },
        "id": "hAZshCNrFvNB",
        "outputId": "da9807bb-403d-47fd-e85c-a17f4e693475"
      },
      "execution_count": 20,
      "outputs": [
        {
          "output_type": "display_data",
          "data": {
            "image/png": "[encoded data removed]",
            "text/plain": [
              "<Figure size 432x288 with 1 Axes>"
            ]
          },
          "metadata": {
            "needs_background": "light"
          }
        }
      ]
    },
    {
      "cell_type": "code",
      "source": [
        "def fetch_data(start, stop, symbol, interval, TIMEFRAME_S):\n",
        "    limit = 1000    # We want the maximum of 1000 data points\n",
        "    # Create api instance\n",
        "    api_v2 = bitfinex.bitfinex_v2.api_v2()\n",
        "    hour = TIMEFRAME_S * 1000\n",
        "    step = hour * limit\n",
        "    data = []\n",
        "\n",
        "    total_steps = (stop-start)/hour\n",
        "    while total_steps > 0:\n",
        "        if total_steps < limit: # recalculating ending steps\n",
        "            step = total_steps * hour\n",
        "\n",
        "        end = start + step\n",
        "        data += api_v2.candles(symbol=symbol, interval=interval, limit=limit, start=start, end=end)\n",
        "        print(pd.to_datetime(start, unit='ms'), pd.to_datetime(end, unit='ms'), \"steps left:\", total_steps)\n",
        "        start = start + step\n",
        "        total_steps -= limit\n",
        "        time.sleep(1.5)\n",
        "    return data"
      ],
      "metadata": {
        "id": "2p43m17kH21I"
      },
      "execution_count": 21,
      "outputs": []
    },
    {
      "cell_type": "code",
      "source": [
        "result = fetch_data(t_start, t_stop, pair, TIMEFRAME, TIMEFRAME_S)\n",
        "names = ['Date', 'Open', 'Close', 'High', 'Low', 'Volume']\n",
        "df = pd.DataFrame(result, columns=names)\n",
        "df.drop_duplicates(inplace=True)\n",
        "df['Date'] = pd.to_datetime(df['Date'], unit='ms')\n",
        "df.set_index('Date', inplace=True)\n",
        "df.sort_index(inplace=True)\n",
        "df.to_csv(f\"{pair}_{TIMEFRAME}.csv\")"
      ],
      "metadata": {
        "colab": {
          "base_uri": "https://localhost:8080/"
        },
        "id": "f_-OE1u0I30w",
        "outputId": "a0a46bfc-2445-4a15-af2a-0b2bb34220a4"
      },
      "execution_count": 24,
      "outputs": [
        {
          "output_type": "stream",
          "name": "stdout",
          "text": [
            "No keys, only access to public API functions\n",
            "2014-09-01 00:00:00 2014-10-12 16:00:00 steps left: 53328.0\n",
            "2014-10-12 16:00:00 2014-11-23 08:00:00 steps left: 52328.0\n",
            "2014-11-23 08:00:00 2015-01-04 00:00:00 steps left: 51328.0\n",
            "2015-01-04 00:00:00 2015-02-14 16:00:00 steps left: 50328.0\n",
            "2015-02-14 16:00:00 2015-03-28 08:00:00 steps left: 49328.0\n",
            "2015-03-28 08:00:00 2015-05-09 00:00:00 steps left: 48328.0\n",
            "2015-05-09 00:00:00 2015-06-19 16:00:00 steps left: 47328.0\n",
            "2015-06-19 16:00:00 2015-07-31 08:00:00 steps left: 46328.0\n",
            "2015-07-31 08:00:00 2015-09-11 00:00:00 steps left: 45328.0\n",
            "2015-09-11 00:00:00 2015-10-22 16:00:00 steps left: 44328.0\n",
            "2015-10-22 16:00:00 2015-12-03 08:00:00 steps left: 43328.0\n",
            "2015-12-03 08:00:00 2016-01-14 00:00:00 steps left: 42328.0\n",
            "2016-01-14 00:00:00 2016-02-24 16:00:00 steps left: 41328.0\n",
            "2016-02-24 16:00:00 2016-04-06 08:00:00 steps left: 40328.0\n",
            "2016-04-06 08:00:00 2016-05-18 00:00:00 steps left: 39328.0\n",
            "2016-05-18 00:00:00 2016-06-28 16:00:00 steps left: 38328.0\n",
            "2016-06-28 16:00:00 2016-08-09 08:00:00 steps left: 37328.0\n",
            "2016-08-09 08:00:00 2016-09-20 00:00:00 steps left: 36328.0\n",
            "2016-09-20 00:00:00 2016-10-31 16:00:00 steps left: 35328.0\n",
            "2016-10-31 16:00:00 2016-12-12 08:00:00 steps left: 34328.0\n",
            "2016-12-12 08:00:00 2017-01-23 00:00:00 steps left: 33328.0\n",
            "2017-01-23 00:00:00 2017-03-05 16:00:00 steps left: 32328.0\n",
            "2017-03-05 16:00:00 2017-04-16 08:00:00 steps left: 31328.0\n",
            "2017-04-16 08:00:00 2017-05-28 00:00:00 steps left: 30328.0\n",
            "2017-05-28 00:00:00 2017-07-08 16:00:00 steps left: 29328.0\n",
            "2017-07-08 16:00:00 2017-08-19 08:00:00 steps left: 28328.0\n",
            "2017-08-19 08:00:00 2017-09-30 00:00:00 steps left: 27328.0\n",
            "2017-09-30 00:00:00 2017-11-10 16:00:00 steps left: 26328.0\n",
            "2017-11-10 16:00:00 2017-12-22 08:00:00 steps left: 25328.0\n",
            "2017-12-22 08:00:00 2018-02-02 00:00:00 steps left: 24328.0\n",
            "2018-02-02 00:00:00 2018-03-15 16:00:00 steps left: 23328.0\n",
            "2018-03-15 16:00:00 2018-04-26 08:00:00 steps left: 22328.0\n",
            "2018-04-26 08:00:00 2018-06-07 00:00:00 steps left: 21328.0\n",
            "2018-06-07 00:00:00 2018-07-18 16:00:00 steps left: 20328.0\n",
            "2018-07-18 16:00:00 2018-08-29 08:00:00 steps left: 19328.0\n",
            "2018-08-29 08:00:00 2018-10-10 00:00:00 steps left: 18328.0\n",
            "2018-10-10 00:00:00 2018-11-20 16:00:00 steps left: 17328.0\n",
            "2018-11-20 16:00:00 2019-01-01 08:00:00 steps left: 16328.0\n",
            "2019-01-01 08:00:00 2019-02-12 00:00:00 steps left: 15328.0\n",
            "2019-02-12 00:00:00 2019-03-25 16:00:00 steps left: 14328.0\n",
            "2019-03-25 16:00:00 2019-05-06 08:00:00 steps left: 13328.0\n",
            "2019-05-06 08:00:00 2019-06-17 00:00:00 steps left: 12328.0\n",
            "2019-06-17 00:00:00 2019-07-28 16:00:00 steps left: 11328.0\n",
            "2019-07-28 16:00:00 2019-09-08 08:00:00 steps left: 10328.0\n",
            "2019-09-08 08:00:00 2019-10-20 00:00:00 steps left: 9328.0\n",
            "2019-10-20 00:00:00 2019-11-30 16:00:00 steps left: 8328.0\n",
            "2019-11-30 16:00:00 2020-01-11 08:00:00 steps left: 7328.0\n",
            "2020-01-11 08:00:00 2020-02-22 00:00:00 steps left: 6328.0\n",
            "2020-02-22 00:00:00 2020-04-03 16:00:00 steps left: 5328.0\n",
            "2020-04-03 16:00:00 2020-05-15 08:00:00 steps left: 4328.0\n",
            "2020-05-15 08:00:00 2020-06-26 00:00:00 steps left: 3328.0\n",
            "2020-06-26 00:00:00 2020-08-06 16:00:00 steps left: 2328.0\n",
            "2020-08-06 16:00:00 2020-09-17 08:00:00 steps left: 1328.0\n",
            "2020-09-17 08:00:00 2020-10-01 00:00:00 steps left: 328.0\n"
          ]
        }
      ]
    },
    {
      "cell_type": "code",
      "source": [
        "from multiprocessing import Process, Pipe\n",
        "import time\n",
        "import random\n",
        "\n",
        "class Environment(Process): # creating environment class for multiprocessing\n",
        "    def __init__(self, env_idx, child_conn):\n",
        "        super(Environment, self).__init__()\n",
        "        self.env_idx = env_idx\n",
        "        self.child_conn = child_conn\n",
        "\n",
        "    def run(self):\n",
        "        super(Environment, self).run()\n",
        "        while True:\n",
        "            number = self.child_conn.recv()\n",
        "            self.child_conn.send(number*2)\n",
        "\n",
        "if __name__ == \"__main__\":\n",
        "    works, parent_conns, child_conns = [], [], []\n",
        "    \n",
        "    for idx in range(2):\n",
        "        parent_conn, child_conn = Pipe() # creating a communication pipe\n",
        "        work = Environment(idx, child_conn) # creating new process \n",
        "        work.start() # starting process \n",
        "        works.append(work) # saving started procsses to list\n",
        "        parent_conns.append(parent_conn) # saving communication pipe refference to list\n",
        "        child_conns.append(child_conn) # saving communication pipe refference to list\n",
        "\n",
        "    while True:\n",
        "        for worker_id, parent_conn in enumerate(parent_conns):\n",
        "            r = random.randint(0, 10) # creating random number between 0 and 10\n",
        "            parent_conn.send(r) # sending message with random nuber to worker_id running process\n",
        "            \n",
        "        time.sleep(1)\n",
        "\n",
        "        for worker_id, parent_conn in enumerate(parent_conns):\n",
        "            result = parent_conn.recv() # reading received message from worker_id process\n",
        "            print(f\"From {worker_id} worker received {result}\")"
      ],
      "metadata": {
        "colab": {
          "base_uri": "https://localhost:8080/",
          "height": 760
        },
        "id": "c3-QTxDOK5Qx",
        "outputId": "eeb2c761-445e-4510-cd29-54c94c48b824"
      },
      "execution_count": 26,
      "outputs": [
        {
          "output_type": "stream",
          "name": "stderr",
          "text": [
            "Process Environment-4:\n",
            "Traceback (most recent call last):\n",
            "Process Environment-3:\n",
            "Traceback (most recent call last):\n",
            "  File \"/usr/lib/python3.7/multiprocessing/process.py\", line 297, in _bootstrap\n",
            "    self.run()\n",
            "  File \"/usr/lib/python3.7/multiprocessing/process.py\", line 297, in _bootstrap\n",
            "    self.run()\n",
            "  File \"<ipython-input-26-40beec1b546e>\", line 14, in run\n",
            "    number = self.child_conn.recv()\n"
          ]
        },
        {
          "output_type": "stream",
          "name": "stdout",
          "text": [
            "From 0 worker received 20\n",
            "From 1 worker received 6\n"
          ]
        },
        {
          "output_type": "stream",
          "name": "stderr",
          "text": [
            "  File \"<ipython-input-26-40beec1b546e>\", line 14, in run\n",
            "    number = self.child_conn.recv()\n",
            "  File \"/usr/lib/python3.7/multiprocessing/connection.py\", line 250, in recv\n",
            "    buf = self._recv_bytes()\n"
          ]
        },
        {
          "output_type": "error",
          "ename": "KeyboardInterrupt",
          "evalue": "ignored",
          "traceback": [
            "\u001b[0;31m---------------------------------------------------------------------------\u001b[0m",
            "\u001b[0;31mKeyboardInterrupt\u001b[0m                         Traceback (most recent call last)",
            "\u001b[0;32m<ipython-input-26-40beec1b546e>\u001b[0m in \u001b[0;36m<module>\u001b[0;34m()\u001b[0m\n\u001b[1;32m     31\u001b[0m             \u001b[0mparent_conn\u001b[0m\u001b[0;34m.\u001b[0m\u001b[0msend\u001b[0m\u001b[0;34m(\u001b[0m\u001b[0mr\u001b[0m\u001b[0;34m)\u001b[0m \u001b[0;31m# sending message with random nuber to worker_id running process\u001b[0m\u001b[0;34m\u001b[0m\u001b[0;34m\u001b[0m\u001b[0m\n\u001b[1;32m     32\u001b[0m \u001b[0;34m\u001b[0m\u001b[0m\n\u001b[0;32m---> 33\u001b[0;31m         \u001b[0mtime\u001b[0m\u001b[0;34m.\u001b[0m\u001b[0msleep\u001b[0m\u001b[0;34m(\u001b[0m\u001b[0;36m1\u001b[0m\u001b[0;34m)\u001b[0m\u001b[0;34m\u001b[0m\u001b[0;34m\u001b[0m\u001b[0m\n\u001b[0m\u001b[1;32m     34\u001b[0m \u001b[0;34m\u001b[0m\u001b[0m\n\u001b[1;32m     35\u001b[0m         \u001b[0;32mfor\u001b[0m \u001b[0mworker_id\u001b[0m\u001b[0;34m,\u001b[0m \u001b[0mparent_conn\u001b[0m \u001b[0;32min\u001b[0m \u001b[0menumerate\u001b[0m\u001b[0;34m(\u001b[0m\u001b[0mparent_conns\u001b[0m\u001b[0;34m)\u001b[0m\u001b[0;34m:\u001b[0m\u001b[0;34m\u001b[0m\u001b[0;34m\u001b[0m\u001b[0m\n",
            "\u001b[0;31mKeyboardInterrupt\u001b[0m: "
          ]
        },
        {
          "output_type": "stream",
          "name": "stderr",
          "text": [
            "  File \"/usr/lib/python3.7/multiprocessing/connection.py\", line 407, in _recv_bytes\n",
            "    buf = self._recv(4)\n",
            "  File \"/usr/lib/python3.7/multiprocessing/connection.py\", line 250, in recv\n",
            "    buf = self._recv_bytes()\n",
            "  File \"/usr/lib/python3.7/multiprocessing/connection.py\", line 407, in _recv_bytes\n",
            "    buf = self._recv(4)\n",
            "  File \"/usr/lib/python3.7/multiprocessing/connection.py\", line 379, in _recv\n",
            "    chunk = read(handle, remaining)\n",
            "  File \"/usr/lib/python3.7/multiprocessing/connection.py\", line 379, in _recv\n",
            "    chunk = read(handle, remaining)\n",
            "KeyboardInterrupt\n",
            "KeyboardInterrupt\n"
          ]
        }
      ]
    },
    {
      "cell_type": "code",
      "source": [
        "from multiprocessing import Process, Pipe\n",
        "\n",
        "class Environment(Process):\n",
        "    def __init__(self, env_idx, child_conn, env, training_batch_size, visualize):\n",
        "        super(Environment, self).__init__()\n",
        "        self.env = env\n",
        "        self.env_idx = env_idx\n",
        "        self.child_conn = child_conn\n",
        "        self.training_batch_size = training_batch_size\n",
        "        self.visualize = visualize\n",
        "\n",
        "    def run(self):\n",
        "        super(Environment, self).run()\n",
        "        state = self.env.reset(env_steps_size = self.training_batch_size)\n",
        "        self.child_conn.send(state)\n",
        "        while True:\n",
        "            reset, net_worth, episode_orders = 0, 0, 0\n",
        "            action = self.child_conn.recv()\n",
        "            if self.env_idx == 0:\n",
        "                self.env.render(self.visualize)\n",
        "            state, reward, done = self.env.step(action)\n",
        "\n",
        "            if done or self.env.current_step == self.env.end_step:\n",
        "                net_worth = self.env.net_worth\n",
        "                episode_orders = self.env.episode_orders\n",
        "                state = self.env.reset(env_steps_size = self.training_batch_size)\n",
        "                reset = 1\n",
        "\n",
        "            self.child_conn.send([state, reward, done, reset, net_worth, episode_orders])"
      ],
      "metadata": {
        "id": "4pPLPQzSNEHW"
      },
      "execution_count": null,
      "outputs": []
    },
    {
      "cell_type": "code",
      "source": [
        "def train_multiprocessing(CustomEnv, agent, train_df, num_worker=4, training_batch_size=500, visualize=False, EPISODES=10000):\n",
        "    works, parent_conns, child_conns = [], [], []\n",
        "    episode = 0\n",
        "    total_average = deque(maxlen=100) # save recent 100 episodes net worth\n",
        "    best_average = 0 # used to track best average net worth\n",
        "\n",
        "    for idx in range(num_worker):\n",
        "        parent_conn, child_conn = Pipe()\n",
        "        env = CustomEnv(train_df, lookback_window_size=agent.lookback_window_size)\n",
        "        work = Environment(idx, child_conn, env, training_batch_size, visualize)\n",
        "        work.start()\n",
        "        works.append(work)\n",
        "        parent_conns.append(parent_conn)\n",
        "        child_conns.append(child_conn)\n",
        "\n",
        "    agent.create_writer(env.initial_balance, env.normalize_value, EPISODES) # create TensorBoard writer\n",
        "\n",
        "    states =        [[] for _ in range(num_worker)]\n",
        "    next_states =   [[] for _ in range(num_worker)]\n",
        "    actions =       [[] for _ in range(num_worker)]\n",
        "    rewards =       [[] for _ in range(num_worker)]\n",
        "    dones =         [[] for _ in range(num_worker)]\n",
        "    predictions =   [[] for _ in range(num_worker)]\n",
        "\n",
        "    state = [0 for _ in range(num_worker)]\n",
        "    for worker_id, parent_conn in enumerate(parent_conns):\n",
        "        state[worker_id] = parent_conn.recv()\n",
        "\n",
        "    while episode < EPISODES:\n",
        "        predictions_list = agent.Actor.actor_predict(np.reshape(state, [num_worker]+[_ for _ in state[0].shape]))\n",
        "        actions_list = [np.random.choice(agent.action_space, p=i) for i in predictions_list]\n",
        "\n",
        "        for worker_id, parent_conn in enumerate(parent_conns):\n",
        "            parent_conn.send(actions_list[worker_id])\n",
        "            action_onehot = np.zeros(agent.action_space.shape[0])\n",
        "            action_onehot[actions_list[worker_id]] = 1\n",
        "            actions[worker_id].append(action_onehot)\n",
        "            predictions[worker_id].append(predictions_list[worker_id])\n",
        "\n",
        "        for worker_id, parent_conn in enumerate(parent_conns):\n",
        "            next_state, reward, done, reset, net_worth, episode_orders = parent_conn.recv()\n",
        "            states[worker_id].append(np.expand_dims(state[worker_id], axis=0))\n",
        "            next_states[worker_id].append(np.expand_dims(next_state, axis=0))\n",
        "            rewards[worker_id].append(reward)\n",
        "            dones[worker_id].append(done)\n",
        "            state[worker_id] = next_state\n",
        "\n",
        "            if reset:\n",
        "                episode += 1\n",
        "                a_loss, c_loss = agent.replay(states[worker_id], actions[worker_id], rewards[worker_id], predictions[worker_id], dones[worker_id], next_states[worker_id])\n",
        "                total_average.append(net_worth)\n",
        "                average = np.average(total_average)\n",
        "\n",
        "                agent.writer.add_scalar('Data/average net_worth', average, episode)\n",
        "                agent.writer.add_scalar('Data/episode_orders', episode_orders, episode)\n",
        "                \n",
        "                print(\"episode: {:<5} worker: {:<1} net worth: {:<7.2f} average: {:<7.2f} orders: {}\".format(episode, worker_id, net_worth, average, episode_orders))\n",
        "                if episode > len(total_average):\n",
        "                    if best_average < average:\n",
        "                        best_average = average\n",
        "                        print(\"Saving model\")\n",
        "                        agent.save(score=\"{:.2f}\".format(best_average), args=[episode, average, episode_orders, a_loss, c_loss])\n",
        "                    agent.save()\n",
        "                \n",
        "                states[worker_id] = []\n",
        "                next_states[worker_id] = []\n",
        "                actions[worker_id] = []\n",
        "                rewards[worker_id] = []\n",
        "                dones[worker_id] = []\n",
        "                predictions[worker_id] = []\n",
        "\n",
        "    agent.end_training_log()\n",
        "    # terminating processes after while loop\n",
        "    works.append(work)\n",
        "    for work in works:\n",
        "        work.terminate()\n",
        "        print('TERMINATED:', work)\n",
        "        work.join()"
      ],
      "metadata": {
        "id": "siyxyNgVNFgQ"
      },
      "execution_count": null,
      "outputs": []
    },
    {
      "cell_type": "code",
      "source": [
        "from multiprocessing_env import train_multiprocessing, test_multiprocessing\n",
        "...\n",
        "\n",
        "if __name__ == \"__main__\":            \n",
        "    df = pd.read_csv('./BTCUSD_1h.csv')\n",
        "    df = df.sort_values('Date')\n",
        "    df = AddIndicators(df) # insert indicators to df\n",
        "\n",
        "    lookback_window_size = 50\n",
        "    test_window = 720*3 # 3 months \n",
        "    train_df = df[100:-test_window-lookback_window_size] # we leave 100 to have properly calculated indicators\n",
        "    test_df = df[-test_window-lookback_window_size:]\n",
        "    \n",
        "    agent = CustomAgent(lookback_window_size=lookback_window_size, lr=0.00001, epochs=5, optimizer=Adam, batch_size = 32, model=\"Dense\")\n",
        "    train_multiprocessing(CustomEnv, agent, train_df, num_worker = 32, training_batch_size=500, visualize=False, EPISODES=200000)"
      ],
      "metadata": {
        "id": "PCOJ_V49N6Hw"
      },
      "execution_count": null,
      "outputs": []
    },
    {
      "cell_type": "code",
      "source": [
        "def test_multiprocessing(CustomEnv, agent, test_df, num_worker = 4, visualize=False, test_episodes=1000, folder=\"\", name=\"Crypto_trader\", comment=\"\", initial_balance=1000):\n",
        "    agent.load(folder, name)\n",
        "    works, parent_conns, child_conns = [], [], []\n",
        "    average_net_worth = 0\n",
        "    average_orders = 0\n",
        "    no_profit_episodes = 0\n",
        "    episode = 0\n",
        "\n",
        "    for idx in range(num_worker):\n",
        "        parent_conn, child_conn = Pipe()\n",
        "        env = CustomEnv(test_df, initial_balance=initial_balance, lookback_window_size=agent.lookback_window_size)\n",
        "        work = Environment(idx, child_conn, env, training_batch_size=0, visualize=visualize)\n",
        "        work.start()\n",
        "        works.append(work)\n",
        "        parent_conns.append(parent_conn)\n",
        "        child_conns.append(child_conn)\n",
        "\n",
        "    state = [0 for _ in range(num_worker)]\n",
        "    for worker_id, parent_conn in enumerate(parent_conns):\n",
        "        state[worker_id] = parent_conn.recv()\n",
        "\n",
        "    while episode < test_episodes:\n",
        "        predictions_list = agent.Actor.actor_predict(np.reshape(state, [num_worker]+[_ for _ in state[0].shape]))\n",
        "        actions_list = [np.random.choice(agent.action_space, p=i) for i in predictions_list]\n",
        "\n",
        "        for worker_id, parent_conn in enumerate(parent_conns):\n",
        "            parent_conn.send(actions_list[worker_id])\n",
        "\n",
        "        for worker_id, parent_conn in enumerate(parent_conns):\n",
        "            next_state, reward, done, reset, net_worth, episode_orders = parent_conn.recv()\n",
        "            state[worker_id] = next_state\n",
        "\n",
        "            if reset:\n",
        "                episode += 1\n",
        "                #print(episode, net_worth, episode_orders)\n",
        "                average_net_worth += net_worth\n",
        "                average_orders += episode_orders\n",
        "                if net_worth < initial_balance: no_profit_episodes += 1 # calculate episode count where we had negative profit through episode\n",
        "                print(\"episode: {:<5} worker: {:<1} net worth: {:<7.2f} average_net_worth: {:<7.2f} orders: {}\".format(episode, worker_id, net_worth, average_net_worth/episode, episode_orders))\n",
        "                if episode == test_episodes: break\n",
        "            \n",
        "    print(\"No profit episodes: {}\".format(no_profit_episodes))\n",
        "    # save test results to test_results.txt file\n",
        "    with open(\"test_results.txt\", \"a+\") as results:\n",
        "        current_date = datetime.now().strftime('%Y-%m-%d %H:%M')\n",
        "        results.write(f'{current_date}, {name}, test episodes:{test_episodes}')\n",
        "        results.write(f', net worth:{average_net_worth/(episode+1)}, orders per episode:{average_orders/test_episodes}')\n",
        "        results.write(f', no profit episodes:{no_profit_episodes}, comment: {comment}\\n')\n",
        "    \n",
        "    # terminating processes after while loop\n",
        "    works.append(work)\n",
        "    for work in works:\n",
        "        work.terminate()\n",
        "        print('TERMINATED:', work)\n",
        "        work.join()"
      ],
      "metadata": {
        "id": "xEnj3TYlN8Yt"
      },
      "execution_count": null,
      "outputs": []
    },
    {
      "cell_type": "code",
      "source": [
        "from multiprocessing_env import train_multiprocessing, test_multiprocessing\n",
        "...\n",
        "\n",
        "if __name__ == \"__main__\":            \n",
        "    df = pd.read_csv('./BTCUSD_1h.csv')\n",
        "    df = df.sort_values('Date')\n",
        "    df = AddIndicators(df) # insert indicators to df\n",
        "\n",
        "    lookback_window_size = 50\n",
        "    test_window = 720*3 # 3 months \n",
        "    train_df = df[100:-test_window-lookback_window_size] # we leave 100 to have properly calculated indicators\n",
        "    test_df = df[-test_window-lookback_window_size:]\n",
        "    \n",
        "    agent = CustomAgent(lookback_window_size=lookback_window_size, lr=0.00001, epochs=5, optimizer=Adam, batch_size = 32, model=\"Dense\")\n",
        "    test_multiprocessing(CustomEnv, agent, test_df, num_worker = 16, visualize=False, test_episodes=1000, folder=\"2021_01_21_20_06_Crypto_trader\", name=\"1984.93_Crypto_trader\", comment=\"Dense\")"
      ],
      "metadata": {
        "id": "JwGV4gdjOBzO"
      },
      "execution_count": null,
      "outputs": []
    }
  ]
}