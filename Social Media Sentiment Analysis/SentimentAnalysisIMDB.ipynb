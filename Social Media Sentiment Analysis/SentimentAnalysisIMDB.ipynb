{
  "nbformat": 4,
  "nbformat_minor": 0,
  "metadata": {
    "kernelspec": {
      "display_name": "Python 3",
      "language": "python",
      "name": "python3"
    },
    "language_info": {
      "codemirror_mode": {
        "name": "ipython",
        "version": 3
      },
      "file_extension": ".py",
      "mimetype": "text/x-python",
      "name": "python",
      "nbconvert_exporter": "python",
      "pygments_lexer": "ipython3",
      "version": "3.7.3"
    },
    "colab": {
      "name": "SentimentAnalysisIMDB.ipynb",
      "provenance": [],
      "include_colab_link": true
    }
  },
  "cells": [
    {
      "cell_type": "markdown",
      "metadata": {
        "id": "view-in-github",
        "colab_type": "text"
      },
      "source": [
        "<a href=\"https://colab.research.google.com/github/MKolaksazov/Machine-Learning/blob/master/Social%20Media%20Sentiment%20Analysis/SentimentAnalysisIMDB.ipynb\" target=\"_parent\"><img src=\"https://colab.research.google.com/assets/colab-badge.svg\" alt=\"Open In Colab\"/></a>"
      ]
    },
    {
      "cell_type": "code",
      "metadata": {
        "scrolled": false,
        "id": "F6BcvC3MdlTV",
        "colab_type": "code",
        "colab": {},
        "outputId": "c2563821-ca2c-4796-ff0e-19e386a5addb"
      },
      "source": [
        "from zipfile import ZipFile\n",
        "file_name = \"aclImdb.zip\"\n",
        "with ZipFile(file_name, \"r\") as zip:\n",
        "    zip.extractall()\n",
        "    print(\"Done\")"
      ],
      "execution_count": 0,
      "outputs": [
        {
          "output_type": "stream",
          "text": [
            "Done\n"
          ],
          "name": "stdout"
        }
      ]
    },
    {
      "cell_type": "code",
      "metadata": {
        "id": "gOUBbJgJdlTZ",
        "colab_type": "code",
        "colab": {}
      },
      "source": [
        "%matplotlib inline\n",
        "import numpy as np\n",
        "import pandas as pd\n",
        "import matplotlib.pyplot as plt\n",
        "import re\n",
        "import nltk\n",
        "from sklearn.feature_extraction.text import TfidfVectorizer\n",
        "from sklearn.model_selection import StratifiedKFold\n",
        "from sklearn.model_selection import train_test_split\n",
        "from sklearn.model_selection import GridSearchCV\n",
        "from sklearn.linear_model import LogisticRegression\n",
        "from sklearn.tree import DecisionTreeClassifier\n",
        "from sklearn.svm import LinearSVC\n",
        "from sklearn.metrics import accuracy_score\n",
        "from sklearn.metrics import roc_curve, auc, roc_auc_score\n",
        "from sklearn.externals import joblib"
      ],
      "execution_count": 0,
      "outputs": []
    },
    {
      "cell_type": "code",
      "metadata": {
        "id": "55airEtpdlTb",
        "colab_type": "code",
        "colab": {},
        "outputId": "935699a1-34b1-4f04-b88f-588a538395cb"
      },
      "source": [
        "nltk.download(\"stopwords\")\n",
        "from nltk.corpus import stopwords"
      ],
      "execution_count": 0,
      "outputs": [
        {
          "output_type": "stream",
          "text": [
            "[nltk_data] Downloading package stopwords to\n",
            "[nltk_data]     C:\\Users\\Marko\\AppData\\Roaming\\nltk_data...\n",
            "[nltk_data]   Package stopwords is already up-to-date!\n"
          ],
          "name": "stderr"
        }
      ]
    },
    {
      "cell_type": "code",
      "metadata": {
        "id": "-1IlKSKAdlTd",
        "colab_type": "code",
        "colab": {}
      },
      "source": [
        "import os\n",
        "import glob\n",
        "import re\n",
        "\n",
        "BASE_DATA_FOLDER = \"aclImdb\"\n",
        "TRAin_DATA_FOLDER = os.path.join(BASE_DATA_FOLDER, \"train\")\n",
        "\n",
        "ROWS = 12500+12500\n",
        "COLS = 2\n",
        "\n",
        "reviews_train = np.ndarray(shape=(ROWS, COLS), dtype=object)\n",
        "reviews_train = list(reviews_train)\n",
        "\n",
        "for i, file_path in enumerate(glob.glob(os.path.join(TRAin_DATA_FOLDER, '*', \"*.txt\"))):\n",
        "    if re.split(r\"\\\\\", str(file_path))[2] != 'unsup':\n",
        "        for line in open(str(file_path), 'r', encoding=\"utf8\"):\n",
        "            reviews_train[i][0] = str(line.strip())\n",
        "            reviews_train[i][1] = str(re.split('_|\\\\.', str(file_path))[1])           "
      ],
      "execution_count": 0,
      "outputs": []
    },
    {
      "cell_type": "code",
      "metadata": {
        "id": "wKDRdKgedlTf",
        "colab_type": "code",
        "colab": {},
        "outputId": "c1f3b02c-c97d-4d60-f39c-a9959f495cdd"
      },
      "source": [
        "print(reviews_train[20000])"
      ],
      "execution_count": 0,
      "outputs": [
        {
          "output_type": "stream",
          "text": [
            "[\"This Documentary (Now available free on Video.Google.Com) is a fantastic demonstration of the power of ordinary people to overcome injustice. Everyone must see this.<br /><br />Chavez was elected in a landslide vote in 1998. His platform was to divert the fantastic oil wealth from the 20% middle class to the 80% poor. He banned foreign drift net fishing in Venezuelan waters. He sent 10,000 Cuban doctors to the slums to treat the sick for free. He wiped out illiteracy and set up new free Universities. <br /><br />But it was his 30% tax on oil company profits that got him in trouble with the Bush administration. In 2002, while Irish film makers Kim Bartley and Donnacha O'Briain were interviewing Chavez inside the Presidential Palace about his social programs, a CIA backed coup was launched. With the cameras rolling, Chavez was captured and flown out of the country. It was announced on national TV that he had 'resigned'.<br /><br />But the poor of Venezuela didn't believe the media. They went to the Palace in their millions and demanded that Chavez be returned. In the face of such overwhelming numbers, the military turned on the coup leaders and the plotters fled to the US. Chavez was rescued by military helicopter and returned to jubilation.\"\n",
            " '10']\n"
          ],
          "name": "stdout"
        }
      ]
    },
    {
      "cell_type": "code",
      "metadata": {
        "id": "ZQJqmz8idlTh",
        "colab_type": "code",
        "colab": {}
      },
      "source": [
        "BASE_DATA_FOLDER = \"aclImdb\"\n",
        "Test_DATA_FOLDER = os.path.join(BASE_DATA_FOLDER, \"test\")\n",
        "\n",
        "ROWS = 12500+12500\n",
        "COLS = 2\n",
        "\n",
        "reviews_test = np.ndarray(shape=(ROWS, COLS), dtype=object)\n",
        "reviews_test = list(reviews_test)\n",
        "\n",
        "for i, file_path in enumerate(glob.glob(os.path.join(Test_DATA_FOLDER, '*', \"*.txt\"))):\n",
        "    #if re.split(r\"\\\\\", str(file_path))[2] != 'unsup':\n",
        "        for line in open(str(file_path), 'r', encoding=\"utf8\"):\n",
        "            reviews_test[i][0] = str(line.strip())\n",
        "            reviews_test[i][1] = str(re.split('_|\\\\.', str(file_path))[1])  "
      ],
      "execution_count": 0,
      "outputs": []
    },
    {
      "cell_type": "code",
      "metadata": {
        "id": "S1XyDYQFdlTj",
        "colab_type": "code",
        "colab": {},
        "outputId": "34678096-46d0-4306-c2e2-f986198d4356"
      },
      "source": [
        "print(reviews_test[20000])"
      ],
      "execution_count": 0,
      "outputs": [
        {
          "output_type": "stream",
          "text": [
            "[\"'In the Line of Fire' is one of those Hollywood films that shows up on tv quite a bit, but although I've seen it a few times, I usually end up sitting through the whole thing again. Why? - It's GOOD! Clint Eastwood is great as usual, and the character he plays is interesting and more fleshed out than usual. The character, Secret Service agent Frank Horrigan, is haunted by the fact that he was on the detail that failed to protect President Kennedy in Dallas, and now he's forced to match wits with a professional assassin that is openly declaring that he will kill the president. However, the film doesn't make him a depressed, brooding, and obsessed character. He's charming and personable, and is realistic as a guy that has experienced a lot in life and is comfortable in his own skin. He's even quite convincing when he flirts with the pretty younger agent played by Rene Russo. The killer, played by John Malkovich at his best, is cerebral, deliberate, and enjoys playing high stakes games of life and death. He even goes by the name of another presidential assassin, John Booth.<br /><br /> The film is consistently enjoyable, and it delivers all the goods - suspense, action, romance, and drama - all in their proper amounts. It's a fun film that is really helped by the great actors in it!\"\n",
            " '9']\n"
          ],
          "name": "stdout"
        }
      ]
    },
    {
      "cell_type": "code",
      "metadata": {
        "id": "JvIDPDUYdlTl",
        "colab_type": "code",
        "colab": {}
      },
      "source": [
        "replace_no_space = re.compile(r\"(\\.)|(\\;)|(\\:)|(\\!)|(\\')|(\\?)|(\\,)|(\\\")|(\\()|(\\))|(\\[)|(\\])|(\\\\)\")\n",
        "replace_with_space = re.compile(\"(<br\\s*/><br\\s*/>)|(\\-)|(\\/)\")"
      ],
      "execution_count": 0,
      "outputs": []
    },
    {
      "cell_type": "code",
      "metadata": {
        "id": "UcFx--RAdlTn",
        "colab_type": "code",
        "colab": {}
      },
      "source": [
        "def preprocess_reviews(reviews):\n",
        "    reviews = [replace_no_space.sub(\"\", str(line).lower()) for line in reviews]\n",
        "    reviews = [replace_with_space.sub(\" \", line) for line in reviews]\n",
        "    return reviews"
      ],
      "execution_count": 0,
      "outputs": []
    },
    {
      "cell_type": "code",
      "metadata": {
        "id": "Qo2X_x-CdlTp",
        "colab_type": "code",
        "colab": {}
      },
      "source": [
        "reviews_train_clean = preprocess_reviews(np.asarray(reviews_train)[:,0])\n",
        "reviews_test_clean = preprocess_reviews(np.asarray(reviews_test)[:,0])"
      ],
      "execution_count": 0,
      "outputs": []
    },
    {
      "cell_type": "code",
      "metadata": {
        "id": "XZJq5IQldlTs",
        "colab_type": "code",
        "colab": {},
        "outputId": "f250b32d-771b-433a-da61-c3a2ab20048a"
      },
      "source": [
        "print(reviews_train_clean[20000])"
      ],
      "execution_count": 0,
      "outputs": [
        {
          "output_type": "stream",
          "text": [
            "this documentary now available free on videogooglecom is a fantastic demonstration of the power of ordinary people to overcome injustice everyone must see this chavez was elected in a landslide vote in 1998 his platform was to divert the fantastic oil wealth from the 20% middle class to the 80% poor he banned foreign drift net fishing in venezuelan waters he sent 10000 cuban doctors to the slums to treat the sick for free he wiped out illiteracy and set up new free universities  but it was his 30% tax on oil company profits that got him in trouble with the bush administration in 2002 while irish film makers kim bartley and donnacha obriain were interviewing chavez inside the presidential palace about his social programs a cia backed coup was launched with the cameras rolling chavez was captured and flown out of the country it was announced on national tv that he had resigned but the poor of venezuela didnt believe the media they went to the palace in their millions and demanded that chavez be returned in the face of such overwhelming numbers the military turned on the coup leaders and the plotters fled to the us chavez was rescued by military helicopter and returned to jubilation\n"
          ],
          "name": "stdout"
        }
      ]
    },
    {
      "cell_type": "code",
      "metadata": {
        "id": "kuNoXExAdlTv",
        "colab_type": "code",
        "colab": {},
        "outputId": "e6b3eed7-14f4-4959-a82e-8104a3551143"
      },
      "source": [
        "print(reviews_test_clean[20000])"
      ],
      "execution_count": 0,
      "outputs": [
        {
          "output_type": "stream",
          "text": [
            "in the line of fire is one of those hollywood films that shows up on tv quite a bit but although ive seen it a few times i usually end up sitting through the whole thing again why   its good clint eastwood is great as usual and the character he plays is interesting and more fleshed out than usual the character secret service agent frank horrigan is haunted by the fact that he was on the detail that failed to protect president kennedy in dallas and now hes forced to match wits with a professional assassin that is openly declaring that he will kill the president however the film doesnt make him a depressed brooding and obsessed character hes charming and personable and is realistic as a guy that has experienced a lot in life and is comfortable in his own skin hes even quite convincing when he flirts with the pretty younger agent played by rene russo the killer played by john malkovich at his best is cerebral deliberate and enjoys playing high stakes games of life and death he even goes by the name of another presidential assassin john booth  the film is consistently enjoyable and it delivers all the goods   suspense action romance and drama   all in their proper amounts its a fun film that is really helped by the great actors in it\n"
          ],
          "name": "stdout"
        }
      ]
    },
    {
      "cell_type": "code",
      "metadata": {
        "id": "JVA182z2dlTx",
        "colab_type": "code",
        "colab": {}
      },
      "source": [
        "reviews_train_label = np.asarray(reviews_train)[:,1]\n",
        "reviews_test_label = np.asarray(reviews_test)[:,1]"
      ],
      "execution_count": 0,
      "outputs": []
    },
    {
      "cell_type": "code",
      "metadata": {
        "id": "YLg7D_JSdlTz",
        "colab_type": "code",
        "colab": {}
      },
      "source": [
        "english_stop_words = stopwords.words('english')\n",
        "def remove_stop_words(corpus):\n",
        "    removed_stop_words = []\n",
        "    for review in corpus:\n",
        "        removed_stop_words.append(' '.join([word for word in review.split() if word not in english_stop_words]))\n",
        "    return removed_stop_words"
      ],
      "execution_count": 0,
      "outputs": []
    },
    {
      "cell_type": "code",
      "metadata": {
        "id": "Pl4Qu4PodlT2",
        "colab_type": "code",
        "colab": {}
      },
      "source": [
        "reviews_train_ready = remove_stop_words(reviews_train_clean)\n",
        "reviews_test_ready = remove_stop_words(reviews_test_clean)"
      ],
      "execution_count": 0,
      "outputs": []
    },
    {
      "cell_type": "code",
      "metadata": {
        "id": "vMH9x8cZdlT3",
        "colab_type": "code",
        "colab": {},
        "outputId": "348a0341-f144-4d2a-d7bc-87ca962472ab"
      },
      "source": [
        "print(reviews_train_ready[20000])"
      ],
      "execution_count": 0,
      "outputs": [
        {
          "output_type": "stream",
          "text": [
            "documentary available free videogooglecom fantastic demonstration power ordinary people overcome injustice everyone must see chavez elected landslide vote 1998 platform divert fantastic oil wealth 20% middle class 80% poor banned foreign drift net fishing venezuelan waters sent 10000 cuban doctors slums treat sick free wiped illiteracy set new free universities 30% tax oil company profits got trouble bush administration 2002 irish film makers kim bartley donnacha obriain interviewing chavez inside presidential palace social programs cia backed coup launched cameras rolling chavez captured flown country announced national tv resigned poor venezuela didnt believe media went palace millions demanded chavez returned face overwhelming numbers military turned coup leaders plotters fled us chavez rescued military helicopter returned jubilation\n"
          ],
          "name": "stdout"
        }
      ]
    },
    {
      "cell_type": "code",
      "metadata": {
        "id": "6laROFfHdlT5",
        "colab_type": "code",
        "colab": {},
        "outputId": "96a92f18-ef5d-473d-93ed-bad0502188ac"
      },
      "source": [
        "print(reviews_test_ready[20000])"
      ],
      "execution_count": 0,
      "outputs": [
        {
          "output_type": "stream",
          "text": [
            "line fire one hollywood films shows tv quite bit although ive seen times usually end sitting whole thing good clint eastwood great usual character plays interesting fleshed usual character secret service agent frank horrigan haunted fact detail failed protect president kennedy dallas hes forced match wits professional assassin openly declaring kill president however film doesnt make depressed brooding obsessed character hes charming personable realistic guy experienced lot life comfortable skin hes even quite convincing flirts pretty younger agent played rene russo killer played john malkovich best cerebral deliberate enjoys playing high stakes games life death even goes name another presidential assassin john booth film consistently enjoyable delivers goods suspense action romance drama proper amounts fun film really helped great actors\n"
          ],
          "name": "stdout"
        }
      ]
    },
    {
      "cell_type": "code",
      "metadata": {
        "id": "8YRZqQvEdlT7",
        "colab_type": "code",
        "colab": {},
        "outputId": "64b893cd-93a7-4e94-ad75-40de455f6359"
      },
      "source": [
        "tfidf_vectorizer = TfidfVectorizer()\n",
        "tfidf_vectorizer.fit(reviews_train_ready)"
      ],
      "execution_count": 0,
      "outputs": [
        {
          "output_type": "execute_result",
          "data": {
            "text/plain": [
              "TfidfVectorizer(analyzer='word', binary=False, decode_error='strict',\n",
              "        dtype=<class 'numpy.float64'>, encoding='utf-8', input='content',\n",
              "        lowercase=True, max_df=1.0, max_features=None, min_df=1,\n",
              "        ngram_range=(1, 1), norm='l2', preprocessor=None, smooth_idf=True,\n",
              "        stop_words=None, strip_accents=None, sublinear_tf=False,\n",
              "        token_pattern='(?u)\\\\b\\\\w\\\\w+\\\\b', tokenizer=None, use_idf=True,\n",
              "        vocabulary=None)"
            ]
          },
          "metadata": {
            "tags": []
          },
          "execution_count": 99
        }
      ]
    },
    {
      "cell_type": "code",
      "metadata": {
        "id": "fZNd7jrpdlT9",
        "colab_type": "code",
        "colab": {}
      },
      "source": [
        "reviews_features = tfidf_vectorizer.transform(reviews_train_ready)\n",
        "x_test = tfidf_vectorizer.transform(reviews_test_ready)"
      ],
      "execution_count": 0,
      "outputs": []
    },
    {
      "cell_type": "code",
      "metadata": {
        "id": "2H8yLipqdlT_",
        "colab_type": "code",
        "colab": {},
        "outputId": "737c701c-1f7d-4d0b-9631-964a8c4009cf"
      },
      "source": [
        "labels = [0 if i < 12500 else 1 for i in range(25000)]\n",
        "x_train, x_val, y_train, y_val = train_test_split(reviews_features, labels, train_size=0.8, random_state=42)\n",
        "\n",
        "x_train.shape\n",
        "x_train"
      ],
      "execution_count": 0,
      "outputs": [
        {
          "output_type": "execute_result",
          "data": {
            "text/plain": [
              "<20000x92694 sparse matrix of type '<class 'numpy.float64'>'\n",
              "\twith 2027185 stored elements in Compressed Sparse Row format>"
            ]
          },
          "metadata": {
            "tags": []
          },
          "execution_count": 114
        }
      ]
    },
    {
      "cell_type": "code",
      "metadata": {
        "id": "OvYJJQeodlUC",
        "colab_type": "code",
        "colab": {},
        "outputId": "67c52957-88ef-4b44-918f-458f3b7bb403"
      },
      "source": [
        "x_train[0]"
      ],
      "execution_count": 0,
      "outputs": [
        {
          "output_type": "execute_result",
          "data": {
            "text/plain": [
              "<1x92694 sparse matrix of type '<class 'numpy.float64'>'\n",
              "\twith 164 stored elements in Compressed Sparse Row format>"
            ]
          },
          "metadata": {
            "tags": []
          },
          "execution_count": 105
        }
      ]
    },
    {
      "cell_type": "code",
      "metadata": {
        "id": "j3rK_XTfdlUF",
        "colab_type": "code",
        "colab": {},
        "outputId": "d0cd4967-91fc-4ff5-8b80-02ce762f0a3b"
      },
      "source": [
        "k_fold = StratifiedKFold(n_splits = 5)\n",
        "k_fold.split(x_train, y_train)"
      ],
      "execution_count": 0,
      "outputs": [
        {
          "output_type": "execute_result",
          "data": {
            "text/plain": [
              "<generator object _BaseKFold.split at 0x0000000015DFE408>"
            ]
          },
          "metadata": {
            "tags": []
          },
          "execution_count": 115
        }
      ]
    },
    {
      "cell_type": "code",
      "metadata": {
        "id": "juA3P_wwdlUH",
        "colab_type": "code",
        "colab": {}
      },
      "source": [
        "def model_logistic_regression_tuned(x, y):\n",
        "    grid_search = GridSearchCV(LogisticRegression(), tuned_params)\n",
        "    model_logistic_regression = grid_search.fit(x, y)\n",
        "    return model_logistic_regression.best_estimator_"
      ],
      "execution_count": 0,
      "outputs": []
    },
    {
      "cell_type": "code",
      "metadata": {
        "id": "-HfYIZtgdlUK",
        "colab_type": "code",
        "colab": {},
        "outputId": "da6c617b-43d5-4a6a-9dfb-f56030a474e7"
      },
      "source": [
        "tuned_params = [{\"C\": [0.05, 0.1, 0.3, 0.5, 1]}]\n",
        "model_logistic_regression_tuned(x_train, y_train)"
      ],
      "execution_count": 0,
      "outputs": [
        {
          "output_type": "stream",
          "text": [
            "C:\\Users\\Marko\\Anaconda3\\lib\\site-packages\\sklearn\\model_selection\\_split.py:2053: FutureWarning: You should specify a value for 'cv' instead of relying on the default value. The default value will change from 3 to 5 in version 0.22.\n",
            "  warnings.warn(CV_WARNING, FutureWarning)\n",
            "C:\\Users\\Marko\\Anaconda3\\lib\\site-packages\\sklearn\\linear_model\\logistic.py:433: FutureWarning: Default solver will be changed to 'lbfgs' in 0.22. Specify a solver to silence this warning.\n",
            "  FutureWarning)\n"
          ],
          "name": "stderr"
        },
        {
          "output_type": "execute_result",
          "data": {
            "text/plain": [
              "LogisticRegression(C=1, class_weight=None, dual=False, fit_intercept=True,\n",
              "          intercept_scaling=1, max_iter=100, multi_class='warn',\n",
              "          n_jobs=None, penalty='l2', random_state=None, solver='warn',\n",
              "          tol=0.0001, verbose=0, warm_start=False)"
            ]
          },
          "metadata": {
            "tags": []
          },
          "execution_count": 117
        }
      ]
    },
    {
      "cell_type": "code",
      "metadata": {
        "id": "xptCa5gvdlUM",
        "colab_type": "code",
        "colab": {},
        "outputId": "1437892e-90df-4e27-bcbd-c739fc0c2e58"
      },
      "source": [
        "tuned_params = [{\"C\": [1, 2, 3, 4, 5]}]\n",
        "model_logistic_regression_tuned(x_train, y_train)"
      ],
      "execution_count": 0,
      "outputs": [
        {
          "output_type": "stream",
          "text": [
            "C:\\Users\\Marko\\Anaconda3\\lib\\site-packages\\sklearn\\model_selection\\_split.py:2053: FutureWarning: You should specify a value for 'cv' instead of relying on the default value. The default value will change from 3 to 5 in version 0.22.\n",
            "  warnings.warn(CV_WARNING, FutureWarning)\n",
            "C:\\Users\\Marko\\Anaconda3\\lib\\site-packages\\sklearn\\linear_model\\logistic.py:433: FutureWarning: Default solver will be changed to 'lbfgs' in 0.22. Specify a solver to silence this warning.\n",
            "  FutureWarning)\n"
          ],
          "name": "stderr"
        },
        {
          "output_type": "execute_result",
          "data": {
            "text/plain": [
              "LogisticRegression(C=3, class_weight=None, dual=False, fit_intercept=True,\n",
              "          intercept_scaling=1, max_iter=100, multi_class='warn',\n",
              "          n_jobs=None, penalty='l2', random_state=None, solver='warn',\n",
              "          tol=0.0001, verbose=0, warm_start=False)"
            ]
          },
          "metadata": {
            "tags": []
          },
          "execution_count": 118
        }
      ]
    },
    {
      "cell_type": "code",
      "metadata": {
        "id": "lOzWUWgodlUO",
        "colab_type": "code",
        "colab": {},
        "outputId": "5aa034bb-6c94-403f-a8c8-c99ec9715f24"
      },
      "source": [
        "tuned_params = [{\"C\": [3.5, 4, 4.5], \"max_iter\": [5, 10, 15]}]\n",
        "model_logistic_regression_tuned(x_train, y_train)"
      ],
      "execution_count": 0,
      "outputs": [
        {
          "output_type": "stream",
          "text": [
            "C:\\Users\\Marko\\Anaconda3\\lib\\site-packages\\sklearn\\model_selection\\_split.py:2053: FutureWarning: You should specify a value for 'cv' instead of relying on the default value. The default value will change from 3 to 5 in version 0.22.\n",
            "  warnings.warn(CV_WARNING, FutureWarning)\n",
            "C:\\Users\\Marko\\Anaconda3\\lib\\site-packages\\sklearn\\linear_model\\logistic.py:433: FutureWarning: Default solver will be changed to 'lbfgs' in 0.22. Specify a solver to silence this warning.\n",
            "  FutureWarning)\n",
            "C:\\Users\\Marko\\Anaconda3\\lib\\site-packages\\sklearn\\svm\\base.py:931: ConvergenceWarning: Liblinear failed to converge, increase the number of iterations.\n",
            "  \"the number of iterations.\", ConvergenceWarning)\n"
          ],
          "name": "stderr"
        },
        {
          "output_type": "execute_result",
          "data": {
            "text/plain": [
              "LogisticRegression(C=4.5, class_weight=None, dual=False, fit_intercept=True,\n",
              "          intercept_scaling=1, max_iter=5, multi_class='warn', n_jobs=None,\n",
              "          penalty='l2', random_state=None, solver='warn', tol=0.0001,\n",
              "          verbose=0, warm_start=False)"
            ]
          },
          "metadata": {
            "tags": []
          },
          "execution_count": 119
        }
      ]
    },
    {
      "cell_type": "code",
      "metadata": {
        "id": "MsiT6SgzdlUT",
        "colab_type": "code",
        "colab": {},
        "outputId": "b8576620-9c38-4178-d873-9e4c268bc58c"
      },
      "source": [
        "model_logistic_regression = LogisticRegression(C = 4, max_iter = 10)\n",
        "model_logistic_regression.fit(x_train, y_train)"
      ],
      "execution_count": 0,
      "outputs": [
        {
          "output_type": "execute_result",
          "data": {
            "text/plain": [
              "LogisticRegression(C=4, class_weight=None, dual=False, fit_intercept=True,\n",
              "          intercept_scaling=1, max_iter=10, multi_class='warn',\n",
              "          n_jobs=None, penalty='l2', random_state=None, solver='warn',\n",
              "          tol=0.0001, verbose=0, warm_start=False)"
            ]
          },
          "metadata": {
            "tags": []
          },
          "execution_count": 120
        }
      ]
    },
    {
      "cell_type": "code",
      "metadata": {
        "id": "q7B75CeudlUV",
        "colab_type": "code",
        "colab": {}
      },
      "source": [
        "accuracy_train = accuracy_score(y_train, model_logistic_regression.predict(x_train))\n",
        "accuracy_validation = accuracy_score(y_val, model_logistic_regression.predict(x_val))"
      ],
      "execution_count": 0,
      "outputs": []
    },
    {
      "cell_type": "code",
      "metadata": {
        "id": "csPoWCekdlUW",
        "colab_type": "code",
        "colab": {},
        "outputId": "3c0c7460-fffd-4424-da5e-0169c19bf020"
      },
      "source": [
        "print(\"Training score:\", round(accuracy_train, 2))\n",
        "print(\"Validation score:\", round(accuracy_validation, 2))"
      ],
      "execution_count": 0,
      "outputs": [
        {
          "output_type": "stream",
          "text": [
            "Training score: 0.98\n",
            "Validation score: 0.89\n"
          ],
          "name": "stdout"
        }
      ]
    },
    {
      "cell_type": "code",
      "metadata": {
        "id": "AFUQZoesdlUY",
        "colab_type": "code",
        "colab": {},
        "outputId": "a479929c-0692-4e12-d113-4e6543d9d4a6"
      },
      "source": [
        "final_accuracy = accuracy_score(labels, model_logistic_regression.predict(x_test))\n",
        "print(\"Testing score:\", round(final_accuracy, 2))"
      ],
      "execution_count": 0,
      "outputs": [
        {
          "output_type": "stream",
          "text": [
            "Testing score: 0.88\n"
          ],
          "name": "stdout"
        }
      ]
    },
    {
      "cell_type": "code",
      "metadata": {
        "id": "ISz3gfWbdlUa",
        "colab_type": "code",
        "colab": {}
      },
      "source": [
        "def receiver_perating_characteristic(model, x, y, accuracy):\n",
        "    plt.figure(figsize = (10, 7))\n",
        "    y_pred_proba = model.predict_proba(x)[::, 1]\n",
        "    fpr, tpr, _ = roc_curve(y, y_pred_proba)\n",
        "    auc = roc_auc_score(y, y_pred_proba)\n",
        "    plt.plot(fpr, tpr, label = \"ROC curve, auc = \" + str(accuracy))\n",
        "    plt.xlabel('False Positive Rate')\n",
        "    plt.ylabel('True Positive Rate')\n",
        "    plt.title('Receiver operating characteristic example')\n",
        "    plt.legend(loc = 4)\n",
        "    plt.show()"
      ],
      "execution_count": 0,
      "outputs": []
    },
    {
      "cell_type": "code",
      "metadata": {
        "id": "nctiSEgQdlUc",
        "colab_type": "code",
        "colab": {},
        "outputId": "6e13f9d7-02c6-4e90-eada-f4d6c63a482a"
      },
      "source": [
        "receiver_perating_characteristic(model_logistic_regression, x_val,\n",
        "y_val, accuracy_validation)"
      ],
      "execution_count": 0,
      "outputs": [
        {
          "output_type": "display_data",
          "data": {
            "image/png": "[encoded data removed]",
            "text/plain": [
              "<Figure size 720x504 with 1 Axes>"
            ]
          },
          "metadata": {
            "tags": [],
            "needs_background": "light"
          }
        }
      ]
    },
    {
      "cell_type": "code",
      "metadata": {
        "id": "arRQbkBadlUf",
        "colab_type": "code",
        "colab": {},
        "outputId": "9f4535d7-ad26-46a4-d93b-39e1a582ff14"
      },
      "source": [
        "joblib.dump(model_logistic_regression, 'Movie_Reviews.pkl')"
      ],
      "execution_count": 0,
      "outputs": [
        {
          "output_type": "execute_result",
          "data": {
            "text/plain": [
              "['Movie_Reviews.pkl']"
            ]
          },
          "metadata": {
            "tags": []
          },
          "execution_count": 127
        }
      ]
    },
    {
      "cell_type": "code",
      "metadata": {
        "id": "Awgp2osUdlUh",
        "colab_type": "code",
        "colab": {},
        "outputId": "b46d53af-9ad7-40d2-dff4-4e7b22c9c8b6"
      },
      "source": [
        "reiews_alita = []\n",
        "for line in open(\"alita.txt\", 'r'):\n",
        "    reiews_alita.append(line.strip())\n",
        "\n",
        "reviews_alita_clean = preprocess_reviews(reiews_alita)\n",
        "reviews_alita_ready = remove_stop_words(reviews_alita_clean)\n",
        "reviews_alita_ready"
      ],
      "execution_count": 0,
      "outputs": [
        {
          "output_type": "execute_result",
          "data": {
            "text/plain": [
              "['п»їin 2563 three hundred years war fall mysterious scientist dr dyson ido christoph waltz finds part female cyborg junkyard brings laboratory finds human brain amnestic intact gives name deceased daughter alita rosa salazar cyborg alita meets street dr idoвґs ex wife chiren jennifer connelly also scientist works powerful zapan ed skrein befriends young hugo keean johnson brings cyborgвґs parts dr ido learns dream moving floating city zalem hugo teaches alita play motorball learns champion motorball tournament moves zalem soon alita discovers dr ido hunter warrior finding cyborg body crashed spaceship decides become also hunter warrior dr ido refuses replace body alita secret cyborg body found alita alita battle angel sci fi adventure great screenplay cast special effects japanese anime amnestic cyborg finds engaging sci fi fan dr ido sort cyborg dr frankenstein direction robert rodriguez entertaining usualthe conclusion indicates sequel vote eight title brazil alita anjo de combate alita battle angel',\n",
              " 'year 2563 300 years fall sky city zalem elysium rules factory town iron city make worlds worst beer dr ido scours dumps parts cannibalize cyborgs discovers cyborg head old technology brain still attaches head legs created deceased daughter alita alita rosa salazar looks like typical teen created margaret keane number things happening citythere slasher bounty hunters motorball like rollerball swords oh yea human boy fun action film leaves hanging part 2 since hollywood loves trilogies know expect guide 1 f word sex nudity',\n",
              " 'james cameron really busy avatar 2 5 know wasnt supposed trilogy find time produce things like robert rodriguez helm director always juggling kid friendly themes themes aimed adults mostly succeeds efforts case gets playground like never least thats feels even bigger one sin city quite budget get movie source material lot people seemed curious never heard alita movie really something comes science fiction pg 13 boundaries also moved feels times least get quite lot action involve something non human even human like like fantasy action entertained even story quite predictable translate quite box office im sure movies well take get',\n",
              " 'film based upon 660 years science fiction flicks youve already seen names changed since steamboat willies creators still bribing us congress keep extending american copyrights back 2563 1925 perform simple test double check facts matter much zoom watching alita battle angel frame frame able detect single clue mickey mouse donald duck goofy even pluto able make mad dash break freedom public domain despite plotted better part seven centuries alita carp fry lazily changes rollerballs name motor ball elyceums name xanax bladerunners name dull slow jog couple wall e styled derivative hours viewers learn jokes battle angels set sequels hints may take many three four flicks ita finally get ground though may centuries spare lying around mound trash waiting pie sky',\n",
              " 'movies james cameron stealing movies terminator stealing westworld gunslinger many action scenes terminator 2 1991 stealing robocop 1987 abyss water stealing close encounters third kind 1977 true lies stealing la totale french movie avatar stealing dances wolves pocahontas titanic stealing night remember 1958 much better movie aliens stealing original alien 1979 alita battle angel stealing robot smith dont like james cameron anti christ lost tomb jesus james cameron movies boring stupid dialogues long',\n",
              " 'like wacky awkward cheesiness rob rodriguezs movies wont disappointed youre looking straight manga translation youll come away disappointed jarring alita especially huge eyes cg cg characters also uncanny valley overall script bad unfortunate story good concept',\n",
              " 'plot sucks feels dated finished half way story set sequels film making explotation audeinces gets two stars visuals im feeling generous',\n",
              " 'biggest issue clear plot nothing actually happens one minute becoming bounty hunter trying go city sky next thing everyones enjoying roller derby honestly didnt know whether coming going whole thing whiplash special effects stunning without plot whole film dull superficial waste time']"
            ]
          },
          "metadata": {
            "tags": []
          },
          "execution_count": 134
        }
      ]
    },
    {
      "cell_type": "code",
      "metadata": {
        "id": "YgbDgB7wdlUj",
        "colab_type": "code",
        "colab": {},
        "outputId": "5b94c6e1-acbe-4919-9cb5-7bc479b90d4e"
      },
      "source": [
        "reiews_alita_ready = tfidf_vectorizer.transform(reviews_alita_ready)\n",
        "\n",
        "reiews_alita_ready.shape"
      ],
      "execution_count": 0,
      "outputs": [
        {
          "output_type": "execute_result",
          "data": {
            "text/plain": [
              "(8, 92694)"
            ]
          },
          "metadata": {
            "tags": []
          },
          "execution_count": 135
        }
      ]
    },
    {
      "cell_type": "code",
      "metadata": {
        "id": "WBCm5dvbdlUk",
        "colab_type": "code",
        "colab": {},
        "outputId": "69afaa3a-ced7-45c1-d942-a1abab57c6d9"
      },
      "source": [
        "clf2 = joblib.load('Movie_Reviews.pkl')\n",
        "# Predict data set using loaded model\n",
        "predict = clf2.predict(reiews_alita_ready)\n",
        "# 8,10,8,7,1,2,2,3\n",
        "predict"
      ],
      "execution_count": 0,
      "outputs": [
        {
          "output_type": "execute_result",
          "data": {
            "text/plain": [
              "array([1, 1, 1, 0, 0, 0, 0, 0])"
            ]
          },
          "metadata": {
            "tags": []
          },
          "execution_count": 136
        }
      ]
    }
  ]
}